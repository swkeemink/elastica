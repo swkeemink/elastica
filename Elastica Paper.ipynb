{
 "cells": [
  {
   "cell_type": "markdown",
   "metadata": {},
   "source": [
    "# Elastica paper figures\n",
    "In this notebook the figures from the paper [Keemink & van Rossum (2015) - etc.) are reproduced, and in the process it is shown how to use the elastica library and some general widgets. \n",
    "\n",
    "Necessary libraries:\n",
    "- matplotlib\n",
    "- scipy\n",
    "- numpy\n",
    "- HoloViews (http://holoviews.org/)"
   ]
  },
  {
   "cell_type": "code",
   "execution_count": null,
   "metadata": {
    "collapsed": false
   },
   "outputs": [],
   "source": [
    "import holoviews as hv\n",
    "%load_ext holoviews.ipython\n",
    "%output widgets='embed' holomap='widgets' size=150 fig='png'\n",
    "import elastica_neurons as en\n",
    "import pylab    as pl\n",
    "from   pylab import exp,cos,sin,pi,tan"
   ]
  },
  {
   "cell_type": "markdown",
   "metadata": {},
   "source": [
    "First, let's set the basic model parameters"
   ]
  },
  {
   "cell_type": "code",
   "execution_count": null,
   "metadata": {
    "collapsed": true
   },
   "outputs": [],
   "source": [
    "Ac = 1     # basic tuning magnitude\n",
    "Kc = 1   # basic tuning width (lower is wider)\n",
    "a  = 0.1  # modulation strength\n",
    "E0 = 4     # modulation offset\n",
    "N  = 32    # number of neurons per location"
   ]
  },
  {
   "cell_type": "markdown",
   "metadata": {},
   "source": [
    "Define basic plotting functions"
   ]
  },
  {
   "cell_type": "code",
   "execution_count": null,
   "metadata": {
    "collapsed": true
   },
   "outputs": [],
   "source": [
    "def plotsceneandresponses(scene,iLoc):\n",
    "    ''' plots the scene and the responses plus underlying drive and modulations for location iLoc\n",
    "    Inputs\n",
    "    -----------------\n",
    "    - scene: the scene to plot\n",
    "    - iLoc: bar position to plot responses and drives+modulations for\n",
    "    \n",
    "    Output\n",
    "    ------------------\n",
    "    - Holoviews object of the Figure\n",
    "    '''\n",
    "    # get the scene plot\n",
    "    ScenePlot = scene.plotscene()\n",
    "\n",
    "    # simulate the scene for location iLoc (i.e. the bar number), and assuming we're not on a torus\n",
    "    scene.simulate(iLoc,torus='off')\n",
    "\n",
    "    # get the preferred orientations\n",
    "    pref        = scene.ang/pi\n",
    "\n",
    "    # get the drive, modulation, and final response of iLoc\n",
    "    centerdrive = hv.Curve(zip(pref,scene.FRc[iLoc,:]),label='center drive')\n",
    "    surroundmod = hv.Curve(zip(pref,scene.FRs[iLoc,:]),label='flanker modulation')\n",
    "    response    = hv.Curve(zip(pref,scene.FR[iLoc,:]),label='response')\n",
    "\n",
    "    # make the response plot\n",
    "    ResponsePlot = surroundmod*centerdrive*response\n",
    "\n",
    "    # get the modulation contributions\n",
    "    ModContributions = scene.plotlocalmod(iLoc,torus='off')\n",
    "\n",
    "    # plot \n",
    "    return ScenePlot+ResponsePlot+ModContributions\n",
    "    "
   ]
  },
  {
   "cell_type": "markdown",
   "metadata": {},
   "source": [
    "### Example scenes\n",
    "Setting up a few example scenes. \n",
    "\n",
    "3 bars"
   ]
  },
  {
   "cell_type": "code",
   "execution_count": null,
   "metadata": {
    "collapsed": false
   },
   "outputs": [],
   "source": [
    "%%opts Curve {+axiswise} \n",
    "# above makes sure the normalization is done by axis, rather than across all of them\n",
    "\n",
    "# set bar orientations\n",
    "a1 = 0*pi/180 # bar 1 orientation\n",
    "a2 = 45*pi/180 # bar 2 orientation\n",
    "a3 = 15*pi/180 # bar 3 orientation\n",
    "A  = pl.array([a1,a2,a3])\n",
    "\n",
    "# set bar positions (x and y positions)\n",
    "X = pl.array([[0,0],[-2,-2],[2,2]])\n",
    "\n",
    "# Setup the scene\n",
    "scene_3b = en.scene(N,A,X,[15,15],Kc,Ac,a,E0)\n",
    "\n",
    "# plot\n",
    "plotsceneandresponses(scene_3b,iLoc=0)"
   ]
  },
  {
   "cell_type": "markdown",
   "metadata": {},
   "source": [
    "A center bar and n surround bars, with a center and surround orientation. The surround orientation rotates the entire surround."
   ]
  },
  {
   "cell_type": "code",
   "execution_count": null,
   "metadata": {
    "collapsed": false
   },
   "outputs": [],
   "source": [
    "%%opts Curve {+axiswise} \n",
    "# above makes sure the normalization is done by axis, rather than across all of them\n",
    "# set some scene parameters\n",
    "ns = 6 # number of surround bars\n",
    "R  = 6 # surround distance\n",
    "\n",
    "# set bar orientations\n",
    "c = 0*pi/180 # center bar orientation\n",
    "s = 30*pi/180 # surround bars orientation\n",
    "A  = pl.zeros(ns+1) # define all bars as having zero degree orientation\n",
    "A[0] = c # sets first bar as center orientation\n",
    "A[1:] = pl.ones(ns)*s # sets all other bars as surround orientation\n",
    "\n",
    "# set bar positions (x and y positions)\n",
    "X = pl.zeros((ns+1,2)) # set all bars positions to [0,0]\n",
    "pos = pl.linspace(0,2*pi,ns+1)[:-1]+pi/2 # flanker angular positions (+ pi/2 to get the scene from figure 5F)\n",
    "X[1:,0]= R*sin(pos) # sets x positions\n",
    "X[1:,1]= R*cos(pos) # sets y positions\n",
    "# (position of center is assumed to be [0,0])\n",
    "\n",
    "# Setup the scene\n",
    "scene_sur = en.scene(N,A,X,[15,15],Kc,Ac,a,E0,modtype='elastica')\n",
    "\n",
    "# plot\n",
    "plotsceneandresponses(scene_sur,iLoc=0)\n",
    "\n"
   ]
  },
  {
   "cell_type": "markdown",
   "metadata": {
    "collapsed": true
   },
   "source": [
    "Calculate the illusion for a given scene, for all flanker orientations"
   ]
  },
  {
   "cell_type": "code",
   "execution_count": null,
   "metadata": {
    "collapsed": false
   },
   "outputs": [],
   "source": [
    "%%opts Curve {+axiswise} \n",
    "# above makes sure the normalization is done by axis, rather than across all of them\n",
    "\n",
    "# set some scene parameters\n",
    "ns = 8 # number of surround bars\n",
    "R  = 6 # surround distance\n",
    "nO = 32 # number of orientations to test\n",
    "bias = pl.zeros(nO) # array to store decoding biases in\n",
    "\n",
    "# set bar orientations\n",
    "c = 0*pi/180 # center bar orientation\n",
    "S = pl.linspace(-pi/2,pi/2,nO) # surround bars orientations\n",
    "A  = pl.zeros(ns+1) # define all bars as having zero degree orientation\n",
    "A[0] = c # sets first bar as center orientation\n",
    "\n",
    "# set bar positions (x and y positions)\n",
    "X = pl.zeros((ns+1,2)) # set all bars positions to [0,0]\n",
    "pos = pl.linspace(0,2*pi,ns+1)[:-1]+pi/2 # flanker angular positions \n",
    "X[1:,0]= R*sin(pos) # sets x positions\n",
    "X[1:,1]= R*cos(pos) # sets y positions\n",
    "\n",
    "# set basic scene\n",
    "scene = en.scene(N,A,X,[15,15],Kc,Ac,a,E0,modtype='elastica')\n",
    "\n",
    "# loop over surround orientations\n",
    "for i,s in enumerate(S):\n",
    "    # reset positions\n",
    "    pos = pl.linspace(0,2*pi,ns+1)[:-1]+pi/2+s # flanker angular positions , \n",
    "    #+s to make the entire surround rotate with surround orientation, remove that to keep bars in place (but still rotate)\n",
    "    scene.X[1:,0]= R*sin(pos) # resets x positions flankers\n",
    "    scene.X[1:,1]= R*cos(pos) # resets y positions flankers\n",
    "    \n",
    "    # set orientations \n",
    "    scene.O[1:] = s # sets all bars except center as surround orientation\n",
    "    \n",
    "    # simulate the neurons at the center location\n",
    "    scene.simulate(0,torus='off')\n",
    "    \n",
    "    # get the encoded orientation of the center neuron\n",
    "    bias[i] = scene.est[0]*180/pi\n",
    "\n",
    "# plot the scene and biases\n",
    "scene.plotscene()+hv.Curve(zip(S,bias))\n"
   ]
  },
  {
   "cell_type": "markdown",
   "metadata": {},
   "source": [
    "Make a scene with a salient element"
   ]
  },
  {
   "cell_type": "code",
   "execution_count": null,
   "metadata": {
    "collapsed": false
   },
   "outputs": [],
   "source": [
    "reload(en)"
   ]
  },
  {
   "cell_type": "code",
   "execution_count": null,
   "metadata": {
    "collapsed": true
   },
   "outputs": [],
   "source": [
    "\n",
    "def fixVScdep_plot(A,X,modtype='distance'):\n",
    "    # Setup the scene for fixed modulation\n",
    "    scene_sur = en.scene(N,A,X,[X[:,0].max()+dist,X[:,1].max()+dist],Kc,Ac,a,E0,modtype=modtype)\n",
    "\n",
    "    # simulate\n",
    "    scene_sur.simulate_all()\n",
    "\n",
    "    # calculate saliency\n",
    "    scene_sur.saliency('mean')\n",
    "\n",
    "    # get saliencies and orientations\n",
    "    sal_fix = scene_sur.sal\n",
    "    or_fix = scene_sur.est\n",
    "\n",
    "    # do above for cdep\n",
    "    scene_sur = en.scene(N,A,X,[X[:,0].max()+dist,X[:,1].max()+dist],Kc,Ac,a,E0,modtype=modtype,surdep='cdep')\n",
    "    scene_sur.simulate_all()\n",
    "    scene_sur.saliency('mean')\n",
    "    sal_cdep = scene_sur.sal\n",
    "    or_cdep = scene_sur.est\n",
    "\n",
    "    # get maximum saliency\n",
    "    sal_max = max([max(sal_fix),max(sal_cdep)])\n",
    "\n",
    "    # plot\n",
    "    fig = scene_sur.plotscene(length=dist/2) \n",
    "    fig+= scene_sur.plotscene(length=dist/2,oriens=or_fix,alphas=sal_fix/sal_max)\n",
    "\n",
    "    # do above for cdep\n",
    "    fig+= scene_sur.plotscene(length=dist/2,oriens=or_cdep,alphas=sal_cdep/sal_max)\n",
    "\n",
    "    # show plot\n",
    "    return fig"
   ]
  },
  {
   "cell_type": "code",
   "execution_count": null,
   "metadata": {
    "collapsed": true
   },
   "outputs": [],
   "source": [
    "Ac = 1     # basic tuning magnitude\n",
    "Kc = 0.6   # basic tuning width (lower is wider)\n",
    "a  = 3  # modulation strength\n",
    "E0 = 4     # modulation offset\n",
    "N  = 32    # number of neurons per location"
   ]
  },
  {
   "cell_type": "code",
   "execution_count": null,
   "metadata": {
    "collapsed": false
   },
   "outputs": [],
   "source": [
    "%%opts Curve {+axiswise} (linewidth=8)\n",
    "# above makes sure the normalization is done by axis, rather than across all of them\n",
    "# set some scene parameters\n",
    "ns = 9 # width of height of scene in bars\n",
    "dist = 5 # distance between bars\n",
    "\n",
    "# set bar orientations\n",
    "feat = 45*pi/180 # feature bar orientation\n",
    "back = 0*pi/180 # background bars orientation\n",
    "A  = pl.ones(ns*ns)*back # define all bars as having backgound degree orientation\n",
    "feat_ids = [ns*(i)+(i) for i in range(ns)] # choose feature\n",
    "A[feat_ids] = feat\n",
    "\n",
    "# set bar positions (x and y positions)\n",
    "X = pl.array([[x,y] for x in pl.arange(ns)*dist for y in pl.arange(ns)*dist]) # set all bars positions\n",
    "\n",
    "\n",
    "fig_contour = fixVScdep_plot(A,X)\n",
    "fig_contour"
   ]
  },
  {
   "cell_type": "code",
   "execution_count": null,
   "metadata": {
    "collapsed": false
   },
   "outputs": [],
   "source": [
    "%%opts Curve {+axiswise} (linewidth=8)\n",
    "# above makes sure the normalization is done by axis, rather than across all of them\n",
    "# set some scene parameters\n",
    "ns = 9 # width and height of scene in bars\n",
    "dist = 5 # distance between bars\n",
    "\n",
    "# set bar orientations\n",
    "feat = 45*pi/180 # feature bar orientation\n",
    "back = 0*pi/180 # background bars orientation\n",
    "A  = pl.ones(ns*ns)*back # define all bars as having backgound degree orientation\n",
    "feat_ids = ns*ns/2 # choose feature\n",
    "A[feat_ids] = feat\n",
    "\n",
    "# set bar positions (x and y positions)\n",
    "X = pl.array([[x,y] for x in pl.arange(ns)*dist for y in pl.arange(ns)*dist]) # set all bars positions\n",
    "\n",
    "# plot\n",
    "fig_single = fixVScdep_plot(A,X)\n",
    "fig_single"
   ]
  },
  {
   "cell_type": "code",
   "execution_count": null,
   "metadata": {
    "collapsed": false
   },
   "outputs": [],
   "source": [
    "%%opts Curve {+axiswise} (linewidth=8)\n",
    "# above makes sure the normalization is done by axis, rather than across all of them\n",
    "# set some scene parameters\n",
    "ns = 9 # width and height of scene in bars\n",
    "dist = 5 # distance between bars\n",
    "\n",
    "# set bar orientations\n",
    "feat = 45*pi/180 # feature bar orientation\n",
    "back = 0*pi/180 # background bars orientation\n",
    "A  = pl.ones(ns*ns)*back # define all bars as having backgound degree orientation\n",
    "feat_ids = ns*ns/2 # choose feature\n",
    "feat_ids = [feat_ids-1-ns,feat_ids-ns,feat_ids+1-ns,feat_ids-1,feat_ids,feat_ids+1,\n",
    "            feat_ids-1+ns,feat_ids+ns,feat_ids+1+ns]\n",
    "A[feat_ids] = feat\n",
    "\n",
    "# set bar positions (x and y positions)\n",
    "X = pl.array([[x,y] for x in pl.arange(ns)*dist for y in pl.arange(ns)*dist]) # set all bars positions\n",
    "\n",
    "# plot\n",
    "fig_block = fixVScdep_plot(A,X)\n",
    "fig_block"
   ]
  },
  {
   "cell_type": "code",
   "execution_count": null,
   "metadata": {
    "collapsed": false
   },
   "outputs": [],
   "source": [
    "%%opts Curve {+axiswise} (linewidth=8)\n",
    "# above makes sure the normalization is done by axis, rather than across all of them\n",
    "# set some scene parameters\n",
    "ny = 10 # height in bars\n",
    "nx = ny*2 # width in bars\n",
    "dist = 5 # distance between bars\n",
    "# a = 0.05\n",
    "# set bar orientations\n",
    "feat = 0*pi/180 # feature bar orientation\n",
    "back = 45*pi/180 # background bars orientation\n",
    "A  = pl.ones(nx*ny)*back # define all bars as having backgound degree orientation\n",
    "feat_ids = pl.arange(pl.floor(nx*ny/2),nx*ny,dtype=int)\n",
    "A[feat_ids] = feat\n",
    "\n",
    "# set bar positions (x and y positions)\n",
    "X = pl.array([[x,y] for x in pl.arange(nx)*dist for y in pl.arange(ny)*dist]) # set all bars positions\n",
    "\n",
    "# plot\n",
    "fig_boundary = fixVScdep_plot(A,X)\n",
    "fig_boundary"
   ]
  },
  {
   "cell_type": "code",
   "execution_count": null,
   "metadata": {
    "collapsed": false
   },
   "outputs": [],
   "source": [
    "%%opts Layout [sublabel_format=None tight=True] Overlay [xaxis=None yaxis=None]\n",
    "fig = fig_single + fig_block + fig_contour + fig_boundary\n",
    "fig.cols(3)"
   ]
  },
  {
   "cell_type": "code",
   "execution_count": null,
   "metadata": {
    "collapsed": true
   },
   "outputs": [],
   "source": []
  },
  {
   "cell_type": "code",
   "execution_count": null,
   "metadata": {
    "collapsed": true
   },
   "outputs": [],
   "source": []
  }
 ],
 "metadata": {
  "kernelspec": {
   "display_name": "Python 2",
   "language": "python",
   "name": "python2"
  },
  "language_info": {
   "codemirror_mode": {
    "name": "ipython",
    "version": 2
   },
   "file_extension": ".py",
   "mimetype": "text/x-python",
   "name": "python",
   "nbconvert_exporter": "python",
   "pygments_lexer": "ipython2",
   "version": "2.7.10"
  }
 },
 "nbformat": 4,
 "nbformat_minor": 0
}
